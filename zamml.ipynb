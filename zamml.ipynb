{
 "cells": [
  {
   "cell_type": "code",
   "execution_count": 180,
   "metadata": {},
   "outputs": [],
   "source": [
    "# Imports\n",
    "import numpy as np\n",
    "import pandas as pd\n",
    "import plotly.graph_objects as go\n",
    "import plotly.express as px\n",
    "import plotly.io as pio\n",
    "import seaborn as sns\n",
    "import matplotlib.pyplot as plt\n",
    "import sklearn\n"
   ]
  },
  {
   "cell_type": "code",
   "execution_count": 181,
   "metadata": {},
   "outputs": [],
   "source": [
    "# Import data\n",
    "df = pd.read_csv('data/train.csv')\n",
    "# Reduce dataframe the number of lines by half\n",
    "df = df.sample(frac=0.1)"
   ]
  },
  {
   "cell_type": "code",
   "execution_count": 182,
   "metadata": {},
   "outputs": [],
   "source": [
    "#import the test data\n",
    "df_test = pd.read_csv('data/test.csv')"
   ]
  },
  {
   "cell_type": "code",
   "execution_count": 183,
   "metadata": {},
   "outputs": [],
   "source": [
    "# Convert country code 'UK' to 'GB'\n",
    "df['country'] = df['country'].replace('UK', 'GB')\n",
    "df_test['country'] = df_test['country'].replace('UK', 'GB')"
   ]
  },
  {
   "cell_type": "code",
   "execution_count": 184,
   "metadata": {},
   "outputs": [],
   "source": [
    "# Function that converts the timestamp to a datetime object\n",
    "def convert_timestamp(timestamp):\n",
    "    date = pd.to_datetime(timestamp, unit='s')\n",
    "    # extract the hour from the timestamp\n",
    "    hour = date.hour\n",
    "    return hour"
   ]
  },
  {
   "cell_type": "code",
   "execution_count": 185,
   "metadata": {},
   "outputs": [],
   "source": [
    "# Convert the timestamp to a datetime object\n",
    "df['time'] = df['timeStamp'].apply(convert_timestamp)\n",
    "df_test['time'] = df_test['timeStamp'].apply(convert_timestamp)"
   ]
  },
  {
   "cell_type": "code",
   "execution_count": 186,
   "metadata": {},
   "outputs": [],
   "source": [
    "# For each country, create a individual datatframe with the mean of the sold ads for each hour\n",
    "\n",
    "# Concatenate time and country columns to create a new dataframe\n",
    "df['time_country'] = df['country'].astype(str) + '_' + df['time'].astype(str)\n",
    "df_test['time_country'] = df_test['country'].astype(str) + '_' + df_test['time'].astype(str)"
   ]
  },
  {
   "cell_type": "code",
   "execution_count": 187,
   "metadata": {},
   "outputs": [],
   "source": [
    "df['opeartingSystem'] = df['opeartingSystem'].str.replace('macOS','Mac OS')\n",
    "df_test['opeartingSystem'] = df_test['opeartingSystem'].str.replace('macOS','Mac OS')\n",
    "df['opeartingSystem'] = df['opeartingSystem'].str.replace('OS X','Mac OS')\n",
    "df_test['opeartingSystem'] = df_test['opeartingSystem'].str.replace('OS X','Mac OS')\n"
   ]
  },
  {
   "cell_type": "code",
   "execution_count": 188,
   "metadata": {},
   "outputs": [],
   "source": [
    "# get timezone for each country\n",
    "from datetime import datetime, tzinfo\n",
    "from dateutil import tz\n",
    "import pytz\n",
    "# Create a function that returns the local time for a gevin country\n",
    "def get_local_time(country, time):\n",
    "    dt_str = pd.to_datetime(time, unit='s').strftime('%m/%d/%Y %H:%M:%S')\n",
    "    format = \"%m/%d/%Y %H:%M:%S\"\n",
    "    # Create datetime object in local timezone\n",
    "    dt = datetime.strptime(dt_str, format)\n",
    "    # Create datetime object in UTC timezone\n",
    "    dt_utc = dt.replace(tzinfo=pytz.UTC)\n",
    "    # Create datetime object in country timezone\n",
    "    try:\n",
    "        country_tz = pytz.country_timezones(country)[0]\n",
    "        dt_country = dt_utc.astimezone(pytz.timezone(country_tz))\n",
    "        return dt_country.strftime('%H')\n",
    "    except:\n",
    "        return pd.NaT\n"
   ]
  },
  {
   "cell_type": "code",
   "execution_count": 189,
   "metadata": {},
   "outputs": [],
   "source": [
    "# Create a new column with the local time for each country\n",
    "#df['local_time'] = df.apply(lambda row: get_local_time(row['country'], row['timeStamp']), axis=1)\n"
   ]
  },
  {
   "cell_type": "code",
   "execution_count": 190,
   "metadata": {},
   "outputs": [],
   "source": [
    "# Function that returns 'neutral' if the value is between 02 and 08\n",
    "def neutral(hour):\n",
    "    if hour == '02':\n",
    "        return 'neutral'\n",
    "    elif hour == '03':\n",
    "        return 'neutral'\n",
    "    elif hour == '04':\n",
    "        return 'neutral'\n",
    "    elif hour == '05':\n",
    "        return 'neutral'\n",
    "    elif hour == '06':\n",
    "        return 'neutral'\n",
    "    elif hour == '07':\n",
    "        return 'neutral'    \n",
    "    elif hour == '08':\n",
    "        return 'neutral'\n",
    "    else:\n",
    "        return hour\n",
    "\n",
    "        # Apply the function to the column 'local_time'\n",
    "#df['local_time'] = df['local_time'].apply(neutral)\n",
    "\n",
    "        # Function that returns 'bad' if the value is between 18 and 23\n",
    "\n",
    "\n",
    "def bad(hour):\n",
    "    if hour == '18':\n",
    "        return 'bad'\n",
    "    elif hour == '19':\n",
    "        return 'bad'\n",
    "    elif hour == '20':\n",
    "        return 'bad'\n",
    "    elif hour == '21':\n",
    "        return 'bad'\n",
    "    elif hour == '22':\n",
    "        return 'bad'\n",
    "    elif hour == '23':\n",
    "        return 'bad'\n",
    "    else:\n",
    "        return hour\n",
    "\n",
    "# Apply the function to the column 'local_time'\n",
    "#df['local_time'] = df['local_time'].apply(bad)\n"
   ]
  },
  {
   "cell_type": "code",
   "execution_count": 191,
   "metadata": {},
   "outputs": [],
   "source": [
    "# function that converts number to text\n",
    "def convert_number(number):\n",
    "    if number == 1:\n",
    "        return 'one'\n",
    "    elif number == 2:\n",
    "        return 'two'\n",
    "    else:\n",
    "        return 'other'\n",
    "\n",
    "# Apply the function to the column 'integrationType'\n",
    "df['integrationType'] = df['integrationType'].apply(convert_number)\n",
    "df_test['integrationType'] = df_test['integrationType'].apply(convert_number)"
   ]
  },
  {
   "cell_type": "code",
   "execution_count": 192,
   "metadata": {},
   "outputs": [],
   "source": [
    "# Function that returns 'other' if the country is not in the list: ['US', 'GB', 'ES', 'FR', 'DE', 'IT', 'CH', 'AU', 'MX', 'BR', 'CA', 'JP']\n",
    "def country_other(country):\n",
    "    if country not in ['US', 'GB', 'ES', 'FR', 'DE', 'IT', 'AU', 'MX', 'BR', 'CA', 'JP']:\n",
    "        return 'other'\n",
    "    else:\n",
    "        return country\n",
    "\n",
    "# Apply the function to the column 'country'\n",
    "df['country_prep'] = df['country'].apply(country_other)\n",
    "df_test['country_prep'] = df_test['country'].apply(country_other)\n"
   ]
  },
  {
   "cell_type": "code",
   "execution_count": 193,
   "metadata": {},
   "outputs": [],
   "source": [
    "count_websiteId = df['websiteId'].value_counts()\n",
    "count_websiteId_test = df_test['websiteId'].value_counts()\n",
    "\n",
    "count_websiteId.sort_values(ascending=False)\n",
    "count_websiteId_test.sort_values(ascending=False)\n",
    "\n",
    "top_websiteId = count_websiteId.index[:11]\n",
    "top_websiteId_test = count_websiteId_test.index[:11]\n",
    "\n",
    "top_websiteId=top_websiteId.tolist()\n",
    "top_websiteId_test=top_websiteId_test.tolist()\n",
    "\n",
    "def prefix(list, prefix):\n",
    "\n",
    "    rename_list= list\n",
    "    for i in range(len((list))):\n",
    "\n",
    "        rename_list[i]= prefix + str(list[i])\n",
    "    return rename_list\n",
    "\n",
    "top_websiteId_prefix = prefix(top_websiteId, 'websiteId_')\n",
    "top_websiteId_test_prefix = prefix(top_websiteId_test, 'websiteId_')\n",
    "df['websiteId'] = df['websiteId'].apply(lambda x: 'websiteId_' + str(x) if 'websiteId_' + str(x) in top_websiteId_prefix else 'other_websiteId')\n",
    "df_test['websiteId'] = df_test['websiteId'].apply(lambda x: 'websiteId_' + str(x) if 'websiteId_' + str(x) in top_websiteId_test_prefix else 'other_websiteId')"
   ]
  },
  {
   "cell_type": "code",
   "execution_count": 194,
   "metadata": {},
   "outputs": [],
   "source": [
    "# count the number of each countries in the dataframe\n",
    "\n",
    "count_browser = df['browser'].value_counts()\n",
    "count_browser_test = df_test['browser'].value_counts()\n",
    "count_browser.sort_values(ascending=False)\n",
    "count_browser_test.sort_values(ascending=False)\n",
    "top_browser = count_browser.index[:11]\n",
    "top_browser_test = count_browser_test.index[:11]\n",
    "\n",
    "df['browser'] = df['browser'].apply(lambda x: x if x in top_browser else 'other_browser')\n",
    "df_test['browser'] = df_test['browser'].apply(lambda x: x if x in top_browser_test else 'other_browser')"
   ]
  },
  {
   "cell_type": "code",
   "execution_count": 195,
   "metadata": {},
   "outputs": [],
   "source": [
    "# same for operatingSystem\n",
    "count_opeartingSystem = df['opeartingSystem'].value_counts()\n",
    "count_opeartingSystem_test = df_test['opeartingSystem'].value_counts()\n",
    "count_opeartingSystem.sort_values(ascending=False)\n",
    "count_opeartingSystem_test.sort_values(ascending=False)\n",
    "top_opeartingSystem = count_opeartingSystem.index[:8]\n",
    "top_opeartingSystem_test = count_opeartingSystem_test.index[:8]\n",
    "\n",
    "df['opeartingSystem'] = df['opeartingSystem'].apply(lambda x: x if x in top_opeartingSystem else 'other_opeartingSystem')\n",
    "df_test['opeartingSystem'] = df_test['opeartingSystem'].apply(lambda x: x if x in top_opeartingSystem_test else 'other_opeartingSystem')"
   ]
  },
  {
   "cell_type": "code",
   "execution_count": 196,
   "metadata": {},
   "outputs": [],
   "source": [
    "# same for environmentType\n",
    "count_environmentType = df['environmentType'].value_counts()\n",
    "count_environmentType_test = df_test['environmentType'].value_counts()\n",
    "count_environmentType.sort_values(ascending=False)\n",
    "count_environmentType_test.sort_values(ascending=False)\n",
    "top_environmentType = count_environmentType.index[:11]\n",
    "top_environmentType_test = count_environmentType_test.index[:11]\n",
    "\n",
    "df['environmentType'] = df['environmentType'].apply(lambda x: x if x in top_environmentType else 'other_environmentType')\n",
    "df_test['environmentType'] = df_test['environmentType'].apply(lambda x: x if x in top_environmentType_test else 'other_environmentType')\n"
   ]
  },
  {
   "cell_type": "code",
   "execution_count": 197,
   "metadata": {},
   "outputs": [],
   "source": [
    "# same for device\n",
    "count_device = df['device'].value_counts()\n",
    "count_device_test = df_test['device'].value_counts()\n",
    "count_device.sort_values(ascending=False)\n",
    "count_device_test.sort_values(ascending=False)\n",
    "top_device = count_device.index[:11]\n",
    "top_device_test = count_device_test.index[:11]\n",
    "\n",
    "df['device'] = df['device'].apply(lambda x: x if x in top_device else 'other_device')\n",
    "df_test['device'] = df_test['device'].apply(lambda x: x if x in top_device_test else 'other_device')"
   ]
  },
  {
   "cell_type": "code",
   "execution_count": 198,
   "metadata": {},
   "outputs": [],
   "source": [
    "# définir ceux qui apparaissent le plus\n",
    "count_placementId = df['placementId'].value_counts()\n",
    "count_placementId_test = df_test['placementId'].value_counts()\n",
    "\n",
    "# keep 10 bests\n",
    "best_placementId = count_placementId[:6]\n",
    "best_placementId_test = count_placementId_test[:6]\n",
    "\n",
    "# print(best_placementId)\n",
    "best_placementId_index = best_placementId.index.tolist()\n",
    "best_placementId_test_index = best_placementId_test.index.tolist()\n",
    "# print(best_placementId_index)\n",
    "# rename\n",
    "prefixPId = 'PId_'\n",
    "\n",
    "#PId_renames = [(prefixPId + sub) for sub in best_placementId_index]\n",
    "\n",
    "def rename(list, prefix):\n",
    "    rename_list = list\n",
    "    for i in range(len((list))):\n",
    "        rename_list[i] = prefix + str(list[i])\n",
    "    return rename_list\n",
    "\n",
    "Pid_rename = rename(best_placementId_index, prefixPId)\n",
    "Pid_test_rename = rename(best_placementId_test_index, prefixPId)\n",
    "# send back data\n",
    "\n",
    "df2 = pd.DataFrame()\n",
    "\n",
    "df2['placementId'] = df['placementId'].apply(\n",
    "    lambda x: prefixPId + str(x) if prefixPId + str(x) in Pid_rename else 'PId_Other')\n",
    "\n",
    "df2_test = pd.DataFrame()\n",
    "df2_test['placementId'] = df_test['placementId'].apply(\n",
    "    lambda x: prefixPId + str(x) if prefixPId + str(x) in Pid_test_rename else 'PId_Other')\n",
    "    \n"
   ]
  },
  {
   "cell_type": "code",
   "execution_count": 199,
   "metadata": {},
   "outputs": [
    {
     "name": "stdout",
     "output_type": "stream",
     "text": [
      "['PId_121842', 'PId_121840', 'PId_121836', 'PId_108383', 'PId_117831', 'PId_91837', 'PId_123180', 'PId_121895', 'PId_113907', 'PId_129333']\n"
     ]
    }
   ],
   "source": [
    "# définir ceux qui apparaissent le plus\n",
    "count_deepthree = df['hashedRefererDeepThree'].value_counts()\n",
    "count_deepthree_test = df_test['hashedRefererDeepThree'].value_counts()\n",
    "count_deepthree\n",
    "count_deepthree_test\n",
    "\n",
    "# keep 10 bests\n",
    "best_deepthree = count_deepthree[:10]\n",
    "best_deepthree_test = count_deepthree_test[:10]\n",
    "\n",
    "\n",
    "# print(best_placementId)\n",
    "best_deepthree_index = best_deepthree.index.tolist()\n",
    "best_deepthree_test_index = best_deepthree_test.index.tolist()\n",
    "\n",
    "print(best_placementId_index)\n",
    "# rename\n",
    "prefixdeepthree = 'deepthree_'\n",
    "\n",
    "\n",
    "#PId_renames = [(prefixPId + sub) for sub in best_placementId_index]\n",
    "\n",
    "def rename(list, prefix):\n",
    "    rename_list = list\n",
    "    for i in range(len((list))):\n",
    "        rename_list[i] = prefix + str(list[i])\n",
    "    return rename_list\n",
    "\n",
    "\n",
    "deepthree_rename = rename(best_deepthree_index, prefixdeepthree)\n",
    "deepthree_test_rename = rename(best_deepthree_test_index, prefixdeepthree)\n",
    "# send back data\n",
    "df3 = pd.DataFrame()\n",
    "\n",
    "\n",
    "df3['hashedRefererDeepThree'] = df['hashedRefererDeepThree'].apply(\n",
    "    lambda x: prefixdeepthree + str(x) if prefixdeepthree + str(x) in deepthree_rename else 'deepthree_Other')\n",
    "\n",
    "df3_test = pd.DataFrame()\n",
    "df3_test['hashedRefererDeepThree'] = df_test['hashedRefererDeepThree'].apply(\n",
    "    lambda x: prefixdeepthree + str(x) if prefixdeepthree + str(x) in deepthree_test_rename else 'deepthree_Other')\n",
    "\n"
   ]
  },
  {
   "cell_type": "code",
   "execution_count": 200,
   "metadata": {},
   "outputs": [],
   "source": [
    "# get_dumy for the column 'local_time'\n",
    "# df_dumy_time = pd.get_dummies(df['local_time'])\n",
    "# add get_dumy for the column 'device'\n",
    "df_dumy_device = pd.get_dummies(df['device'])\n",
    "# add get_dumy for the column 'integraionType' and change the name of the columns\n",
    "df_dumy_integrationType = pd.get_dummies(df['integrationType'])\n",
    "# add get_dumy for the column 'articleSafenessCategorization'\n",
    "df_dumy_articleSafenessCategorization = pd.get_dummies(df['articleSafenessCategorization'])\n",
    "# add get_dumy for the column 'opeartingSystem'\n",
    "df_dumy_opeartingSystem = pd.get_dummies(df['opeartingSystem'])\n",
    "# add get_dumy for the column 'websiteId'\n",
    "df_dumy_websiteId = pd.get_dummies(df['websiteId'])\n",
    "# add get_dumy for the column 'browser'\n",
    "df_dumy_browser = pd.get_dummies(df['browser'])\n",
    "# add get_dumy for the column 'placementId'\n",
    "df_dumy_placementId = pd.get_dummies(df2['placementId'])\n",
    "# add get_dumy for the column 'hashedRefererDeepThree'\n",
    "df_dumy_hashedRefererDeepThree = pd.get_dummies(df3['hashedRefererDeepThree'])\n",
    "# add get_dumy for the column 'country'\n",
    "df_dumy_country = pd.get_dummies(df['country_prep'])\n",
    "\n",
    "# Concatenate all the dataframes\n",
    "df_dumy = pd.concat([\n",
    "    # df_dumy_time,\n",
    "    df_dumy_device,\n",
    "    df_dumy_integrationType,\n",
    "    df_dumy_articleSafenessCategorization,\n",
    "    df_dumy_opeartingSystem,\n",
    "    df_dumy_websiteId,\n",
    "    df_dumy_browser,\n",
    "    df_dumy_placementId,\n",
    "    df_dumy_hashedRefererDeepThree,\n",
    "    df_dumy_country\n",
    "], axis=1)\n",
    "\n",
    "# Apply the same operation to the test dataframe\n",
    "# df_dumy_time_test = pd.get_dummies(df_test['local_time'])\n",
    "# add get_dumy for the column 'device'\n",
    "df_dumy_device_test = pd.get_dummies(df_test['device'])\n",
    "# add get_dumy for the column 'integraionType' and change the name of the columns\n",
    "df_dumy_integrationType_test = pd.get_dummies(df_test['integrationType'])\n",
    "# add get_dumy for the column 'articleSafenessCategorization'\n",
    "df_dumy_articleSafenessCategorization_test = pd.get_dummies(df_test['articleSafenessCategorization'])\n",
    "# add get_dumy for the column 'opeartingSystem'\n",
    "df_dumy_opeartingSystem_test = pd.get_dummies(df_test['opeartingSystem'])\n",
    "# add get_dumy for the column 'websiteId'\n",
    "df_dumy_websiteId_test = pd.get_dummies(df_test['websiteId'])\n",
    "# add get_dumy for the column 'browser'\n",
    "df_dumy_browser_test = pd.get_dummies(df_test['browser'])\n",
    "# add get_dumy for the column 'placementId'\n",
    "df_dumy_placementId_test = pd.get_dummies(df2_test['placementId'])\n",
    "# add get_dumy for the column 'hashedRefererDeepThree'\n",
    "df_dumy_hashedRefererDeepThree_test = pd.get_dummies(df3_test['hashedRefererDeepThree'])\n",
    "# add get_dumy for the column 'country'\n",
    "df_dumy_country_test = pd.get_dummies(df_test['country_prep'])\n",
    "\n",
    "# Concatenate all the dataframes\n",
    "df_dumy_test = pd.concat([\n",
    "    # df_dumy_time_test,\n",
    "    df_dumy_device_test,\n",
    "    df_dumy_integrationType_test,\n",
    "    df_dumy_articleSafenessCategorization_test,\n",
    "    df_dumy_opeartingSystem_test,\n",
    "    df_dumy_websiteId_test,\n",
    "    df_dumy_browser_test,\n",
    "    df_dumy_placementId_test,\n",
    "    df_dumy_hashedRefererDeepThree_test,\n",
    "    df_dumy_country_test\n",
    "], axis=1)\n",
    "\n"
   ]
  },
  {
   "cell_type": "code",
   "execution_count": 201,
   "metadata": {},
   "outputs": [
    {
     "data": {
      "text/plain": [
       "Index(['IPTV', 'PC', 'Phone', 'Tablet', 'one', 'two', 'safe', 'uncat',\n",
       "       'unsafe', 'Android', 'Chrome OS', 'Fire OS', 'Linux', 'Mac OS',\n",
       "       'Windows', 'iOS', 'other_opeartingSystem', 'unknown', 'other_websiteId',\n",
       "       'websiteId_20808', 'websiteId_41456', 'websiteId_42779',\n",
       "       'websiteId_48060', 'websiteId_48177', 'websiteId_48915',\n",
       "       'websiteId_48916', 'websiteId_53583', 'websiteId_57369',\n",
       "       'websiteId_68951', 'websiteId_69655', 'Android webview', 'Chrome',\n",
       "       'Chrome Mobile', 'Facebook App', 'Firefox', 'Google App',\n",
       "       'Microsoft Edge', 'Mobile Samsung Browser', 'Pinterest App', 'Safari',\n",
       "       'Safari mobile', 'other_browser', 'PId_108383', 'PId_113907',\n",
       "       'PId_117831', 'PId_121836', 'PId_121840', 'PId_121842', 'PId_121895',\n",
       "       'PId_123180', 'PId_129333', 'PId_91837', 'PId_Other',\n",
       "       'deepthree_18f3e539d6760fbb391d94194bb850916080e90db29f32bbccffa2fc8db248e6',\n",
       "       'deepthree_25c75b8c9e13fd262ecb525f8e678a959781f0960583f32951759dd504de8728',\n",
       "       'deepthree_27b39722f83985f69d81d7604da7144c3d4ef796405ebebb613e349f9385bcfc',\n",
       "       'deepthree_303df35b8b9a50c218172078e4f46c551440c576da7c9cabdc9a18429bc3e833',\n",
       "       'deepthree_90d1bd49443c00845e3badf0b588ecc06ca0d8d787e4d188c5accfa9111456a8',\n",
       "       'deepthree_Other',\n",
       "       'deepthree_b5633f66f77b2e8059c59fc74e1af85b9b5134ba674ef695126ee001cefd16b9',\n",
       "       'deepthree_bf2c5227ef169b07ba43cfca742306bf3a48b2d74c004f9c48a345809db508cb',\n",
       "       'deepthree_c586ffcb10ce72a72f73bda5ed20816cc0aebaf3b9743247ce873ec46a4b2927',\n",
       "       'deepthree_da0a38209c221ae2b71a5f5d11c6823a7bbb18cb22b091e610160525c01b3ebe',\n",
       "       'deepthree_e2f97f344652849d8d53f47e2f37dfc867a62a3f0c899d67ebb51e03f6436076',\n",
       "       'AU', 'BR', 'CA', 'DE', 'ES', 'FR', 'GB', 'IT', 'JP', 'MX', 'US',\n",
       "       'other'],\n",
       "      dtype='object')"
      ]
     },
     "execution_count": 201,
     "metadata": {},
     "output_type": "execute_result"
    }
   ],
   "source": [
    "df_dumy.head()\n",
    "df_dumy.columns"
   ]
  },
  {
   "cell_type": "code",
   "execution_count": 202,
   "metadata": {},
   "outputs": [
    {
     "data": {
      "text/plain": [
       "Index(['IPTV', 'PC', 'Phone', 'Tablet', 'one', 'two', 'safe', 'uncat',\n",
       "       'unsafe', 'Android', 'Chrome OS', 'Fire OS', 'Linux', 'Mac OS',\n",
       "       'Windows', 'iOS', 'other_opeartingSystem', 'unknown', 'other_websiteId',\n",
       "       'websiteId_20808', 'websiteId_41456', 'websiteId_42779',\n",
       "       'websiteId_48060', 'websiteId_48177', 'websiteId_48915',\n",
       "       'websiteId_48916', 'websiteId_53583', 'websiteId_57369',\n",
       "       'websiteId_68951', 'websiteId_69655', 'Android webview', 'Chrome',\n",
       "       'Chrome Mobile', 'Facebook App', 'Firefox', 'Google App',\n",
       "       'Microsoft Edge', 'Mobile Samsung Browser', 'Pinterest App', 'Safari',\n",
       "       'Safari mobile', 'other_browser', 'PId_108383', 'PId_112035',\n",
       "       'PId_117831', 'PId_121836', 'PId_121840', 'PId_121842', 'PId_121895',\n",
       "       'PId_123180', 'PId_129333', 'PId_91837', 'PId_Other',\n",
       "       'deepthree_18f3e539d6760fbb391d94194bb850916080e90db29f32bbccffa2fc8db248e6',\n",
       "       'deepthree_25c75b8c9e13fd262ecb525f8e678a959781f0960583f32951759dd504de8728',\n",
       "       'deepthree_27b39722f83985f69d81d7604da7144c3d4ef796405ebebb613e349f9385bcfc',\n",
       "       'deepthree_303df35b8b9a50c218172078e4f46c551440c576da7c9cabdc9a18429bc3e833',\n",
       "       'deepthree_90d1bd49443c00845e3badf0b588ecc06ca0d8d787e4d188c5accfa9111456a8',\n",
       "       'deepthree_Other',\n",
       "       'deepthree_b5633f66f77b2e8059c59fc74e1af85b9b5134ba674ef695126ee001cefd16b9',\n",
       "       'deepthree_bf2c5227ef169b07ba43cfca742306bf3a48b2d74c004f9c48a345809db508cb',\n",
       "       'deepthree_c586ffcb10ce72a72f73bda5ed20816cc0aebaf3b9743247ce873ec46a4b2927',\n",
       "       'deepthree_da0a38209c221ae2b71a5f5d11c6823a7bbb18cb22b091e610160525c01b3ebe',\n",
       "       'deepthree_e2f97f344652849d8d53f47e2f37dfc867a62a3f0c899d67ebb51e03f6436076',\n",
       "       'AU', 'BR', 'CA', 'DE', 'ES', 'FR', 'GB', 'IT', 'JP', 'MX', 'US',\n",
       "       'other'],\n",
       "      dtype='object')"
      ]
     },
     "execution_count": 202,
     "metadata": {},
     "output_type": "execute_result"
    }
   ],
   "source": [
    "df_dumy_test.head()\n",
    "# show all the different columns\n",
    "df_dumy_test.columns"
   ]
  },
  {
   "cell_type": "code",
   "execution_count": 203,
   "metadata": {},
   "outputs": [
    {
     "name": "stdout",
     "output_type": "stream",
     "text": [
      "PId_113907\n"
     ]
    }
   ],
   "source": [
    "#compare the columns of the train and test dataframes\n",
    "for col in df_dumy.columns:\n",
    "    if col not in df_dumy_test.columns:\n",
    "        print(col)\n"
   ]
  },
  {
   "cell_type": "code",
   "execution_count": 204,
   "metadata": {},
   "outputs": [],
   "source": [
    "# Make a logistic regression model\n",
    "from sklearn.linear_model import LogisticRegression"
   ]
  },
  {
   "cell_type": "code",
   "execution_count": 205,
   "metadata": {},
   "outputs": [
    {
     "data": {
      "text/html": [
       "<style>#sk-container-id-7 {color: black;background-color: white;}#sk-container-id-7 pre{padding: 0;}#sk-container-id-7 div.sk-toggleable {background-color: white;}#sk-container-id-7 label.sk-toggleable__label {cursor: pointer;display: block;width: 100%;margin-bottom: 0;padding: 0.3em;box-sizing: border-box;text-align: center;}#sk-container-id-7 label.sk-toggleable__label-arrow:before {content: \"▸\";float: left;margin-right: 0.25em;color: #696969;}#sk-container-id-7 label.sk-toggleable__label-arrow:hover:before {color: black;}#sk-container-id-7 div.sk-estimator:hover label.sk-toggleable__label-arrow:before {color: black;}#sk-container-id-7 div.sk-toggleable__content {max-height: 0;max-width: 0;overflow: hidden;text-align: left;background-color: #f0f8ff;}#sk-container-id-7 div.sk-toggleable__content pre {margin: 0.2em;color: black;border-radius: 0.25em;background-color: #f0f8ff;}#sk-container-id-7 input.sk-toggleable__control:checked~div.sk-toggleable__content {max-height: 200px;max-width: 100%;overflow: auto;}#sk-container-id-7 input.sk-toggleable__control:checked~label.sk-toggleable__label-arrow:before {content: \"▾\";}#sk-container-id-7 div.sk-estimator input.sk-toggleable__control:checked~label.sk-toggleable__label {background-color: #d4ebff;}#sk-container-id-7 div.sk-label input.sk-toggleable__control:checked~label.sk-toggleable__label {background-color: #d4ebff;}#sk-container-id-7 input.sk-hidden--visually {border: 0;clip: rect(1px 1px 1px 1px);clip: rect(1px, 1px, 1px, 1px);height: 1px;margin: -1px;overflow: hidden;padding: 0;position: absolute;width: 1px;}#sk-container-id-7 div.sk-estimator {font-family: monospace;background-color: #f0f8ff;border: 1px dotted black;border-radius: 0.25em;box-sizing: border-box;margin-bottom: 0.5em;}#sk-container-id-7 div.sk-estimator:hover {background-color: #d4ebff;}#sk-container-id-7 div.sk-parallel-item::after {content: \"\";width: 100%;border-bottom: 1px solid gray;flex-grow: 1;}#sk-container-id-7 div.sk-label:hover label.sk-toggleable__label {background-color: #d4ebff;}#sk-container-id-7 div.sk-serial::before {content: \"\";position: absolute;border-left: 1px solid gray;box-sizing: border-box;top: 0;bottom: 0;left: 50%;z-index: 0;}#sk-container-id-7 div.sk-serial {display: flex;flex-direction: column;align-items: center;background-color: white;padding-right: 0.2em;padding-left: 0.2em;position: relative;}#sk-container-id-7 div.sk-item {position: relative;z-index: 1;}#sk-container-id-7 div.sk-parallel {display: flex;align-items: stretch;justify-content: center;background-color: white;position: relative;}#sk-container-id-7 div.sk-item::before, #sk-container-id-7 div.sk-parallel-item::before {content: \"\";position: absolute;border-left: 1px solid gray;box-sizing: border-box;top: 0;bottom: 0;left: 50%;z-index: -1;}#sk-container-id-7 div.sk-parallel-item {display: flex;flex-direction: column;z-index: 1;position: relative;background-color: white;}#sk-container-id-7 div.sk-parallel-item:first-child::after {align-self: flex-end;width: 50%;}#sk-container-id-7 div.sk-parallel-item:last-child::after {align-self: flex-start;width: 50%;}#sk-container-id-7 div.sk-parallel-item:only-child::after {width: 0;}#sk-container-id-7 div.sk-dashed-wrapped {border: 1px dashed gray;margin: 0 0.4em 0.5em 0.4em;box-sizing: border-box;padding-bottom: 0.4em;background-color: white;}#sk-container-id-7 div.sk-label label {font-family: monospace;font-weight: bold;display: inline-block;line-height: 1.2em;}#sk-container-id-7 div.sk-label-container {text-align: center;}#sk-container-id-7 div.sk-container {/* jupyter's `normalize.less` sets `[hidden] { display: none; }` but bootstrap.min.css set `[hidden] { display: none !important; }` so we also need the `!important` here to be able to override the default hidden behavior on the sphinx rendered scikit-learn.org. See: https://github.com/scikit-learn/scikit-learn/issues/21755 */display: inline-block !important;position: relative;}#sk-container-id-7 div.sk-text-repr-fallback {display: none;}</style><div id=\"sk-container-id-7\" class=\"sk-top-container\"><div class=\"sk-text-repr-fallback\"><pre>LogisticRegression(max_iter=1000, n_jobs=-1)</pre><b>In a Jupyter environment, please rerun this cell to show the HTML representation or trust the notebook. <br />On GitHub, the HTML representation is unable to render, please try loading this page with nbviewer.org.</b></div><div class=\"sk-container\" hidden><div class=\"sk-item\"><div class=\"sk-estimator sk-toggleable\"><input class=\"sk-toggleable__control sk-hidden--visually\" id=\"sk-estimator-id-7\" type=\"checkbox\" checked><label for=\"sk-estimator-id-7\" class=\"sk-toggleable__label sk-toggleable__label-arrow\">LogisticRegression</label><div class=\"sk-toggleable__content\"><pre>LogisticRegression(max_iter=1000, n_jobs=-1)</pre></div></div></div></div></div>"
      ],
      "text/plain": [
       "LogisticRegression(max_iter=1000, n_jobs=-1)"
      ]
     },
     "execution_count": 205,
     "metadata": {},
     "output_type": "execute_result"
    }
   ],
   "source": [
    "# Fit the model with multithreading\n",
    "model = LogisticRegression(max_iter=1000, n_jobs=-1)\n",
    "model.fit(df_dumy, df['isSold'])"
   ]
  },
  {
   "cell_type": "code",
   "execution_count": 206,
   "metadata": {},
   "outputs": [
    {
     "data": {
      "text/plain": [
       "array([[-0.65290111,  0.33675634,  0.25065275,  0.04768857,  0.12320237,\n",
       "        -0.14100581,  0.4319493 ,  0.18436495, -0.63411769,  0.78023583,\n",
       "        -0.31606329,  1.03168322, -0.31862515,  0.0633329 , -0.10516516,\n",
       "         0.21908127, -0.21183705, -1.16044601,  0.6829805 , -0.33701566,\n",
       "         0.36391616,  0.03084667, -0.3092692 ,  0.44149614, -0.26564287,\n",
       "        -0.32462272, -2.21235041, -0.24298386,  1.61482819,  0.54001362,\n",
       "        -0.40761954,  0.31624887,  0.28281539,  0.21844466, -0.23592151,\n",
       "         0.54747679, -0.27134319,  0.24541004, -0.03708775, -0.43140453,\n",
       "        -0.11969753, -0.12512515, -0.24298386,  1.25575834, -0.26564287,\n",
       "        -1.5234997 ,  0.1429798 , -1.33815826,  1.68653649,  0.54001362,\n",
       "         0.91935563, -2.21235041,  1.02018779,  0.79961139, -0.44558761,\n",
       "        -0.20249456, -0.47984957,  0.68313938,  0.64483624,  0.2908552 ,\n",
       "         0.03084667, -1.28132699, -0.41887123,  0.36103763, -0.02581084,\n",
       "         0.06003628, -0.21874482, -0.09899141,  0.0777172 , -0.15735058,\n",
       "         0.2454873 , -0.06826786, -0.12806183,  0.32357412,  0.79861103,\n",
       "        -0.82600203]])"
      ]
     },
     "execution_count": 206,
     "metadata": {},
     "output_type": "execute_result"
    }
   ],
   "source": [
    "# Show the wheights of the model\n",
    "model.coef_"
   ]
  },
  {
   "cell_type": "code",
   "execution_count": 207,
   "metadata": {},
   "outputs": [
    {
     "name": "stderr",
     "output_type": "stream",
     "text": [
      "/home/zakenobi/.local/lib/python3.10/site-packages/sklearn/base.py:493: FutureWarning:\n",
      "\n",
      "The feature names should match those that were passed during fit. Starting version 1.2, an error will be raised.\n",
      "Feature names unseen at fit time:\n",
      "- PId_112035\n",
      "Feature names seen at fit time, yet now missing:\n",
      "- PId_113907\n",
      "\n",
      "\n"
     ]
    }
   ],
   "source": [
    "# Make a prediction on the test data\n",
    "df_test['isSold'] = model.predict(df_dumy_test)"
   ]
  },
  {
   "cell_type": "code",
   "execution_count": 208,
   "metadata": {},
   "outputs": [
    {
     "name": "stderr",
     "output_type": "stream",
     "text": [
      "/home/zakenobi/.local/lib/python3.10/site-packages/sklearn/base.py:493: FutureWarning:\n",
      "\n",
      "The feature names should match those that were passed during fit. Starting version 1.2, an error will be raised.\n",
      "Feature names unseen at fit time:\n",
      "- PId_112035\n",
      "Feature names seen at fit time, yet now missing:\n",
      "- PId_113907\n",
      "\n",
      "\n"
     ]
    },
    {
     "data": {
      "text/plain": [
       "array([False,  True,  True, ...,  True, False, False])"
      ]
     },
     "execution_count": 208,
     "metadata": {},
     "output_type": "execute_result"
    }
   ],
   "source": [
    "pred = model.predict(df_dumy_test)\n",
    "pred"
   ]
  },
  {
   "cell_type": "code",
   "execution_count": 209,
   "metadata": {},
   "outputs": [
    {
     "data": {
      "text/html": [
       "<div>\n",
       "<style scoped>\n",
       "    .dataframe tbody tr th:only-of-type {\n",
       "        vertical-align: middle;\n",
       "    }\n",
       "\n",
       "    .dataframe tbody tr th {\n",
       "        vertical-align: top;\n",
       "    }\n",
       "\n",
       "    .dataframe thead th {\n",
       "        text-align: right;\n",
       "    }\n",
       "</style>\n",
       "<table border=\"1\" class=\"dataframe\">\n",
       "  <thead>\n",
       "    <tr style=\"text-align: right;\">\n",
       "      <th></th>\n",
       "      <th>auctionId</th>\n",
       "      <th>timeStamp</th>\n",
       "      <th>placementId</th>\n",
       "      <th>websiteId</th>\n",
       "      <th>hashedRefererDeepThree</th>\n",
       "      <th>country</th>\n",
       "      <th>opeartingSystem</th>\n",
       "      <th>browser</th>\n",
       "      <th>browserVersion</th>\n",
       "      <th>device</th>\n",
       "      <th>environmentType</th>\n",
       "      <th>integrationType</th>\n",
       "      <th>articleSafenessCategorization</th>\n",
       "      <th>time</th>\n",
       "      <th>time_country</th>\n",
       "      <th>country_prep</th>\n",
       "      <th>isSold</th>\n",
       "    </tr>\n",
       "  </thead>\n",
       "  <tbody>\n",
       "    <tr>\n",
       "      <th>0</th>\n",
       "      <td>00277acc-dee5-4065-a580-c49dbde5c02e_6c6fd7b0-...</td>\n",
       "      <td>1604180182</td>\n",
       "      <td>120706</td>\n",
       "      <td>other_websiteId</td>\n",
       "      <td>8448d2635d8ce25f3758907451fc740c4b2131693c7a8b...</td>\n",
       "      <td>CA</td>\n",
       "      <td>iOS</td>\n",
       "      <td>Facebook App</td>\n",
       "      <td>NaN</td>\n",
       "      <td>Phone</td>\n",
       "      <td>js-web</td>\n",
       "      <td>two</td>\n",
       "      <td>safe</td>\n",
       "      <td>21</td>\n",
       "      <td>CA_21</td>\n",
       "      <td>CA</td>\n",
       "      <td>False</td>\n",
       "    </tr>\n",
       "    <tr>\n",
       "      <th>1</th>\n",
       "      <td>0055d24f-bbf0-418d-84e7-df1d3124d6d6_60eaa750-...</td>\n",
       "      <td>1604145756</td>\n",
       "      <td>120706</td>\n",
       "      <td>other_websiteId</td>\n",
       "      <td>513dc346ab569ee76d6dbc927079b4049b1e9e95833d13...</td>\n",
       "      <td>US</td>\n",
       "      <td>Android</td>\n",
       "      <td>Facebook App</td>\n",
       "      <td>293_0</td>\n",
       "      <td>Phone</td>\n",
       "      <td>js-web</td>\n",
       "      <td>two</td>\n",
       "      <td>safe</td>\n",
       "      <td>12</td>\n",
       "      <td>US_12</td>\n",
       "      <td>US</td>\n",
       "      <td>True</td>\n",
       "    </tr>\n",
       "    <tr>\n",
       "      <th>2</th>\n",
       "      <td>005bc881-b650-4ccc-baa6-850c9710b0ea_15181501-...</td>\n",
       "      <td>1604095938</td>\n",
       "      <td>120706</td>\n",
       "      <td>other_websiteId</td>\n",
       "      <td>7b856dd2cffe043b51f48f9094a6a8bc58dbdea3bdd239...</td>\n",
       "      <td>MX</td>\n",
       "      <td>Android</td>\n",
       "      <td>Facebook App</td>\n",
       "      <td>274_0</td>\n",
       "      <td>Phone</td>\n",
       "      <td>js-web</td>\n",
       "      <td>two</td>\n",
       "      <td>safe</td>\n",
       "      <td>22</td>\n",
       "      <td>MX_22</td>\n",
       "      <td>MX</td>\n",
       "      <td>True</td>\n",
       "    </tr>\n",
       "    <tr>\n",
       "      <th>3</th>\n",
       "      <td>008c5f32-c29f-4726-8315-a2a4f2d10fb2_a4a0167f-...</td>\n",
       "      <td>1604257787</td>\n",
       "      <td>120706</td>\n",
       "      <td>other_websiteId</td>\n",
       "      <td>8448d2635d8ce25f3758907451fc740c4b2131693c7a8b...</td>\n",
       "      <td>US</td>\n",
       "      <td>iOS</td>\n",
       "      <td>Safari mobile</td>\n",
       "      <td>13_1</td>\n",
       "      <td>Phone</td>\n",
       "      <td>js-web</td>\n",
       "      <td>two</td>\n",
       "      <td>safe</td>\n",
       "      <td>19</td>\n",
       "      <td>US_19</td>\n",
       "      <td>US</td>\n",
       "      <td>True</td>\n",
       "    </tr>\n",
       "    <tr>\n",
       "      <th>4</th>\n",
       "      <td>00f96be1-59f2-43b6-a6d1-0668001cd08c_1014d516-...</td>\n",
       "      <td>1604265857</td>\n",
       "      <td>120706</td>\n",
       "      <td>other_websiteId</td>\n",
       "      <td>a64b4cf5e410623d0bb3d110b2d3183c1590f69e0e61af...</td>\n",
       "      <td>CA</td>\n",
       "      <td>Windows</td>\n",
       "      <td>Microsoft Edge</td>\n",
       "      <td>86_0</td>\n",
       "      <td>PC</td>\n",
       "      <td>js-web</td>\n",
       "      <td>two</td>\n",
       "      <td>unsafe</td>\n",
       "      <td>21</td>\n",
       "      <td>CA_21</td>\n",
       "      <td>CA</td>\n",
       "      <td>False</td>\n",
       "    </tr>\n",
       "  </tbody>\n",
       "</table>\n",
       "</div>"
      ],
      "text/plain": [
       "                                           auctionId   timeStamp  placementId  \\\n",
       "0  00277acc-dee5-4065-a580-c49dbde5c02e_6c6fd7b0-...  1604180182       120706   \n",
       "1  0055d24f-bbf0-418d-84e7-df1d3124d6d6_60eaa750-...  1604145756       120706   \n",
       "2  005bc881-b650-4ccc-baa6-850c9710b0ea_15181501-...  1604095938       120706   \n",
       "3  008c5f32-c29f-4726-8315-a2a4f2d10fb2_a4a0167f-...  1604257787       120706   \n",
       "4  00f96be1-59f2-43b6-a6d1-0668001cd08c_1014d516-...  1604265857       120706   \n",
       "\n",
       "         websiteId                             hashedRefererDeepThree country  \\\n",
       "0  other_websiteId  8448d2635d8ce25f3758907451fc740c4b2131693c7a8b...      CA   \n",
       "1  other_websiteId  513dc346ab569ee76d6dbc927079b4049b1e9e95833d13...      US   \n",
       "2  other_websiteId  7b856dd2cffe043b51f48f9094a6a8bc58dbdea3bdd239...      MX   \n",
       "3  other_websiteId  8448d2635d8ce25f3758907451fc740c4b2131693c7a8b...      US   \n",
       "4  other_websiteId  a64b4cf5e410623d0bb3d110b2d3183c1590f69e0e61af...      CA   \n",
       "\n",
       "  opeartingSystem         browser browserVersion device environmentType  \\\n",
       "0             iOS    Facebook App            NaN  Phone          js-web   \n",
       "1         Android    Facebook App          293_0  Phone          js-web   \n",
       "2         Android    Facebook App          274_0  Phone          js-web   \n",
       "3             iOS   Safari mobile           13_1  Phone          js-web   \n",
       "4         Windows  Microsoft Edge           86_0     PC          js-web   \n",
       "\n",
       "  integrationType articleSafenessCategorization  time time_country  \\\n",
       "0             two                          safe    21        CA_21   \n",
       "1             two                          safe    12        US_12   \n",
       "2             two                          safe    22        MX_22   \n",
       "3             two                          safe    19        US_19   \n",
       "4             two                        unsafe    21        CA_21   \n",
       "\n",
       "  country_prep  isSold  \n",
       "0           CA   False  \n",
       "1           US    True  \n",
       "2           MX    True  \n",
       "3           US    True  \n",
       "4           CA   False  "
      ]
     },
     "execution_count": 209,
     "metadata": {},
     "output_type": "execute_result"
    }
   ],
   "source": [
    "# apply the same changes to the test data\n",
    "df_test.head()"
   ]
  },
  {
   "cell_type": "code",
   "execution_count": 210,
   "metadata": {},
   "outputs": [],
   "source": [
    "# save only the column 'isSold' and the column 'auctionId' to a csv\n",
    "df_test[['auctionId', 'isSold']].to_csv('prediction.csv', index=False)"
   ]
  },
  {
   "cell_type": "code",
   "execution_count": 211,
   "metadata": {},
   "outputs": [
    {
     "data": {
      "text/html": [
       "<div>\n",
       "<style scoped>\n",
       "    .dataframe tbody tr th:only-of-type {\n",
       "        vertical-align: middle;\n",
       "    }\n",
       "\n",
       "    .dataframe tbody tr th {\n",
       "        vertical-align: top;\n",
       "    }\n",
       "\n",
       "    .dataframe thead th {\n",
       "        text-align: right;\n",
       "    }\n",
       "</style>\n",
       "<table border=\"1\" class=\"dataframe\">\n",
       "  <thead>\n",
       "    <tr style=\"text-align: right;\">\n",
       "      <th></th>\n",
       "      <th>auctionId</th>\n",
       "      <th>isSold</th>\n",
       "    </tr>\n",
       "  </thead>\n",
       "  <tbody>\n",
       "    <tr>\n",
       "      <th>0</th>\n",
       "      <td>00277acc-dee5-4065-a580-c49dbde5c02e_6c6fd7b0-...</td>\n",
       "      <td>False</td>\n",
       "    </tr>\n",
       "    <tr>\n",
       "      <th>1</th>\n",
       "      <td>0055d24f-bbf0-418d-84e7-df1d3124d6d6_60eaa750-...</td>\n",
       "      <td>True</td>\n",
       "    </tr>\n",
       "    <tr>\n",
       "      <th>2</th>\n",
       "      <td>005bc881-b650-4ccc-baa6-850c9710b0ea_15181501-...</td>\n",
       "      <td>True</td>\n",
       "    </tr>\n",
       "    <tr>\n",
       "      <th>3</th>\n",
       "      <td>008c5f32-c29f-4726-8315-a2a4f2d10fb2_a4a0167f-...</td>\n",
       "      <td>True</td>\n",
       "    </tr>\n",
       "    <tr>\n",
       "      <th>4</th>\n",
       "      <td>00f96be1-59f2-43b6-a6d1-0668001cd08c_1014d516-...</td>\n",
       "      <td>False</td>\n",
       "    </tr>\n",
       "    <tr>\n",
       "      <th>...</th>\n",
       "      <td>...</td>\n",
       "      <td>...</td>\n",
       "    </tr>\n",
       "    <tr>\n",
       "      <th>242166</th>\n",
       "      <td>fed928d7-a4a4-4119-9a24-cd1791a581b2</td>\n",
       "      <td>True</td>\n",
       "    </tr>\n",
       "    <tr>\n",
       "      <th>242167</th>\n",
       "      <td>fef95305-7ada-4be6-b571-0baa9632c987</td>\n",
       "      <td>True</td>\n",
       "    </tr>\n",
       "    <tr>\n",
       "      <th>242168</th>\n",
       "      <td>ff2703c2-5e85-4c68-a136-cfbfe56b16b7</td>\n",
       "      <td>True</td>\n",
       "    </tr>\n",
       "    <tr>\n",
       "      <th>242169</th>\n",
       "      <td>ffc29802-20e1-4011-aea1-f00699e8de20</td>\n",
       "      <td>False</td>\n",
       "    </tr>\n",
       "    <tr>\n",
       "      <th>242170</th>\n",
       "      <td>ffe319c6-0f03-4eaa-adcf-1b8f4837fa78</td>\n",
       "      <td>False</td>\n",
       "    </tr>\n",
       "  </tbody>\n",
       "</table>\n",
       "<p>242171 rows × 2 columns</p>\n",
       "</div>"
      ],
      "text/plain": [
       "                                                auctionId  isSold\n",
       "0       00277acc-dee5-4065-a580-c49dbde5c02e_6c6fd7b0-...   False\n",
       "1       0055d24f-bbf0-418d-84e7-df1d3124d6d6_60eaa750-...    True\n",
       "2       005bc881-b650-4ccc-baa6-850c9710b0ea_15181501-...    True\n",
       "3       008c5f32-c29f-4726-8315-a2a4f2d10fb2_a4a0167f-...    True\n",
       "4       00f96be1-59f2-43b6-a6d1-0668001cd08c_1014d516-...   False\n",
       "...                                                   ...     ...\n",
       "242166               fed928d7-a4a4-4119-9a24-cd1791a581b2    True\n",
       "242167               fef95305-7ada-4be6-b571-0baa9632c987    True\n",
       "242168               ff2703c2-5e85-4c68-a136-cfbfe56b16b7    True\n",
       "242169               ffc29802-20e1-4011-aea1-f00699e8de20   False\n",
       "242170               ffe319c6-0f03-4eaa-adcf-1b8f4837fa78   False\n",
       "\n",
       "[242171 rows x 2 columns]"
      ]
     },
     "execution_count": 211,
     "metadata": {},
     "output_type": "execute_result"
    }
   ],
   "source": [
    "df_test[['auctionId', 'isSold']]"
   ]
  },
  {
   "cell_type": "code",
   "execution_count": 212,
   "metadata": {},
   "outputs": [
    {
     "data": {
      "text/plain": [
       "242171"
      ]
     },
     "execution_count": 212,
     "metadata": {},
     "output_type": "execute_result"
    }
   ],
   "source": [
    "len(df_test)"
   ]
  },
  {
   "cell_type": "code",
   "execution_count": 213,
   "metadata": {},
   "outputs": [
    {
     "data": {
      "text/plain": [
       "242171"
      ]
     },
     "execution_count": 213,
     "metadata": {},
     "output_type": "execute_result"
    }
   ],
   "source": [
    "len(pred)"
   ]
  },
  {
   "cell_type": "code",
   "execution_count": null,
   "metadata": {},
   "outputs": [],
   "source": []
  },
  {
   "cell_type": "code",
   "execution_count": 214,
   "metadata": {},
   "outputs": [
    {
     "data": {
      "text/plain": [
       "auctionId                            0\n",
       "timeStamp                            0\n",
       "placementId                          0\n",
       "websiteId                            0\n",
       "hashedRefererDeepThree            3860\n",
       "country                            108\n",
       "opeartingSystem                      0\n",
       "browser                              0\n",
       "browserVersion                   32387\n",
       "device                               0\n",
       "environmentType                      0\n",
       "integrationType                      0\n",
       "articleSafenessCategorization        0\n",
       "time                                 0\n",
       "time_country                         0\n",
       "country_prep                         0\n",
       "isSold                               0\n",
       "dtype: int64"
      ]
     },
     "execution_count": 214,
     "metadata": {},
     "output_type": "execute_result"
    }
   ],
   "source": [
    "# check if there is nan \n",
    "df_test.isnull().sum()"
   ]
  },
  {
   "cell_type": "code",
   "execution_count": null,
   "metadata": {},
   "outputs": [],
   "source": []
  }
 ],
 "metadata": {
  "kernelspec": {
   "display_name": "Python 3.9.7",
   "language": "python",
   "name": "python3"
  },
  "language_info": {
   "codemirror_mode": {
    "name": "ipython",
    "version": 3
   },
   "file_extension": ".py",
   "mimetype": "text/x-python",
   "name": "python",
   "nbconvert_exporter": "python",
   "pygments_lexer": "ipython3",
   "version": "3.9.7"
  },
  "orig_nbformat": 4,
  "vscode": {
   "interpreter": {
    "hash": "9ba51fe35a600835c24782006995f412ec21c9c261a7cca32def3027e3f68cc7"
   }
  }
 },
 "nbformat": 4,
 "nbformat_minor": 2
}
